{
  "nbformat": 4,
  "nbformat_minor": 0,
  "metadata": {
    "colab": {
      "provenance": [],
      "authorship_tag": "ABX9TyMPyo0DTa+4N8thZ1QukuW7",
      "include_colab_link": true
    },
    "kernelspec": {
      "name": "python3",
      "display_name": "Python 3"
    },
    "language_info": {
      "name": "python"
    }
  },
  "cells": [
    {
      "cell_type": "markdown",
      "metadata": {
        "id": "view-in-github",
        "colab_type": "text"
      },
      "source": [
        "<a href=\"https://colab.research.google.com/github/SaxenaBhoomika/Resume-Scanner/blob/main/Resume_Scanner.ipynb\" target=\"_parent\"><img src=\"https://colab.research.google.com/assets/colab-badge.svg\" alt=\"Open In Colab\"/></a>"
      ]
    },
    {
      "cell_type": "code",
      "execution_count": 1,
      "metadata": {
        "colab": {
          "base_uri": "https://localhost:8080/"
        },
        "id": "t2EArj9yo20X",
        "outputId": "ece54a36-5cb5-4396-d04e-94bc0035ddae"
      },
      "outputs": [
        {
          "output_type": "stream",
          "name": "stdout",
          "text": [
            "Looking in indexes: https://pypi.org/simple, https://us-python.pkg.dev/colab-wheels/public/simple/\n",
            "Collecting docx2txt\n",
            "  Downloading docx2txt-0.8.tar.gz (2.8 kB)\n",
            "Building wheels for collected packages: docx2txt\n",
            "  Building wheel for docx2txt (setup.py) ... \u001b[?25l\u001b[?25hdone\n",
            "  Created wheel for docx2txt: filename=docx2txt-0.8-py3-none-any.whl size=3980 sha256=8ca05c5876a8f00fb81f4da3c49f81d0f142c154080aa919287fc3c0920a9833\n",
            "  Stored in directory: /root/.cache/pip/wheels/55/f0/2c/81637d42670985178b77df6d41b9b6c6dc18c94818447414b9\n",
            "Successfully built docx2txt\n",
            "Installing collected packages: docx2txt\n",
            "Successfully installed docx2txt-0.8\n"
          ]
        }
      ],
      "source": [
        "!pip install docx2txt\n",
        "import docx2txt"
      ]
    },
    {
      "cell_type": "code",
      "source": [
        "job_description=docx2txt.process('/content/sample_description.docx.docx')\n",
        "resume=docx2txt.process('/content/sample_resume2.docx.docx')"
      ],
      "metadata": {
        "id": "pk9iCmEUtj7N"
      },
      "execution_count": 9,
      "outputs": []
    },
    {
      "cell_type": "code",
      "source": [
        "print(resume)"
      ],
      "metadata": {
        "colab": {
          "base_uri": "https://localhost:8080/"
        },
        "id": "SlwZmno9urur",
        "outputId": "e0273f29-a119-425c-e5eb-c1909c890e47"
      },
      "execution_count": 3,
      "outputs": [
        {
          "output_type": "stream",
          "name": "stdout",
          "text": [
            "Contact\n",
            "\n",
            "Address:\n",
            "\n",
            "177 Great Portland Street, London W5W 6PQ\n",
            "\n",
            "\n",
            "\n",
            "Phone:\n",
            "\n",
            "+44 (0)20 7666 8555 \n",
            "\n",
            "\n",
            "\n",
            "Email:\n",
            "\n",
            "christoper.m@gmail.com\n",
            "\n",
            "\n",
            "\n",
            "LinkedIn:\n",
            "\n",
            "linkedin.com/christopher.morgan\n",
            "\n",
            "Languages\n",
            "\n",
            "Spanish – C2\n",
            "\n",
            "Chinese – A1\n",
            "\n",
            "German – A2\n",
            "\n",
            "Hobbies\n",
            "\n",
            "Writing\n",
            "\n",
            "Sketching\n",
            "\n",
            "Photography\n",
            "\n",
            "Design\n",
            "\n",
            "Contact\n",
            "\n",
            "Address:\n",
            "\n",
            "177 Great Portland Street, London W5W 6PQ\n",
            "\n",
            "\n",
            "\n",
            "Phone:\n",
            "\n",
            "+44 (0)20 7666 8555 \n",
            "\n",
            "\n",
            "\n",
            "Email:\n",
            "\n",
            "christoper.m@gmail.com\n",
            "\n",
            "\n",
            "\n",
            "LinkedIn:\n",
            "\n",
            "linkedin.com/christopher.morgan\n",
            "\n",
            "Languages\n",
            "\n",
            "Spanish – C2\n",
            "\n",
            "Chinese – A1\n",
            "\n",
            "German – A2\n",
            "\n",
            "Hobbies\n",
            "\n",
            "Writing\n",
            "\n",
            "Sketching\n",
            "\n",
            "Photography\n",
            "\n",
            "Design\n",
            "\n",
            "Summary\n",
            "\n",
            "Senior Web Developer specializing in front end development. Experienced with all stages of the development cycle for dynamic web projects. Well-versed in numerous programming languages including HTML5, PHP OOP, JavaScript, CSS, MySQL. Strong background in project management and customer relations.\n",
            "\n",
            "Skill Highlights\n",
            "\n",
            "Project management\n",
            "\n",
            "Strong decision maker\n",
            "\n",
            "Complex problem solver\n",
            "\n",
            "Creative design\n",
            "\n",
            "Innovative\n",
            "\n",
            "Service-focused\n",
            "\n",
            "Experience\n",
            "\n",
            "Web Developer - 09/2015 to 05/2019\n",
            "\n",
            "Luna Web Design, New York\n",
            "\n",
            "Cooperate with designers to create clean interfaces and simple, intuitive interactions and experiences.\n",
            "\n",
            "Develop project concepts and maintain optimal workflow.\n",
            "\n",
            "Work with senior developer to manage large, complex design projects for corporate clients.\n",
            "\n",
            "Complete detailed programming and development tasks for front end public and internal websites as well as challenging back-end server code.\n",
            "\n",
            "Carry out quality assurance tests to discover errors and optimize usability.\n",
            "\n",
            "Education\n",
            "\n",
            "Bachelor of Science: Computer Information Systems - 2014\n",
            "\n",
            "Columbia University, NY\n",
            "\n",
            "Certifications\n",
            "\n",
            "PHP Framework (certificate): Zend, Codeigniter, Symfony.\n",
            "\n",
            "Programming Languages: JavaScript, HTML5, PHP OOP, CSS, SQL, MySQL.\n",
            "\n",
            "\n",
            "\n",
            "Summary\n",
            "\n",
            "Senior Web Developer specializing in front end development. Experienced with all stages of the development cycle for dynamic web projects. Well-versed in numerous programming languages including HTML5, PHP OOP, JavaScript, CSS, MySQL. Strong background in project management and customer relations.\n",
            "\n",
            "Skill Highlights\n",
            "\n",
            "Project management\n",
            "\n",
            "Strong decision maker\n",
            "\n",
            "Complex problem solver\n",
            "\n",
            "Creative design\n",
            "\n",
            "Innovative\n",
            "\n",
            "Service-focused\n",
            "\n",
            "Experience\n",
            "\n",
            "Web Developer - 09/2015 to 05/2019\n",
            "\n",
            "Luna Web Design, New York\n",
            "\n",
            "Cooperate with designers to create clean interfaces and simple, intuitive interactions and experiences.\n",
            "\n",
            "Develop project concepts and maintain optimal workflow.\n",
            "\n",
            "Work with senior developer to manage large, complex design projects for corporate clients.\n",
            "\n",
            "Complete detailed programming and development tasks for front end public and internal websites as well as challenging back-end server code.\n",
            "\n",
            "Carry out quality assurance tests to discover errors and optimize usability.\n",
            "\n",
            "Education\n",
            "\n",
            "Bachelor of Science: Computer Information Systems - 2014\n",
            "\n",
            "Columbia University, NY\n",
            "\n",
            "Certifications\n",
            "\n",
            "PHP Framework (certificate): Zend, Codeigniter, Symfony.\n",
            "\n",
            "Programming Languages: JavaScript, HTML5, PHP OOP, CSS, SQL, MySQL.\n",
            "\n",
            "\n",
            "\n",
            "Christopher Morgan\n",
            "\n",
            "Christopher Morgan\n"
          ]
        }
      ]
    },
    {
      "cell_type": "code",
      "source": [
        "content=[job_description,resume]"
      ],
      "metadata": {
        "id": "aWL6vg4-ur4N"
      },
      "execution_count": 10,
      "outputs": []
    },
    {
      "cell_type": "code",
      "source": [
        "from sklearn.feature_extraction.text import CountVectorizer\n",
        "cv=CountVectorizer()\n",
        "matrix=cv.fit_transform(content)"
      ],
      "metadata": {
        "id": "_9kGRdhxur5t"
      },
      "execution_count": 11,
      "outputs": []
    },
    {
      "cell_type": "code",
      "source": [
        "from sklearn.metrics.pairwise import cosine_similarity\n",
        "similarity_matrix=cosine_similarity(matrix)"
      ],
      "metadata": {
        "id": "uEFppfszur9Y"
      },
      "execution_count": 6,
      "outputs": []
    },
    {
      "cell_type": "code",
      "source": [
        "print(similarity_matrix)"
      ],
      "metadata": {
        "colab": {
          "base_uri": "https://localhost:8080/"
        },
        "id": "FVSwvpByvZbe",
        "outputId": "3a9acf66-1f8d-4e83-f3e0-395ee928235b"
      },
      "execution_count": 13,
      "outputs": [
        {
          "output_type": "stream",
          "name": "stdout",
          "text": [
            "[[1.        0.9463807]\n",
            " [0.9463807 1.       ]]\n"
          ]
        }
      ]
    },
    {
      "cell_type": "code",
      "source": [
        "print(\"Resume matches by :\"+str(similarity_matrix[1][0]*100)+'%')\n"
      ],
      "metadata": {
        "colab": {
          "base_uri": "https://localhost:8080/"
        },
        "id": "O-B0Oir2vheu",
        "outputId": "901354ec-eead-44ce-a4ef-aeed44cfc742"
      },
      "execution_count": 14,
      "outputs": [
        {
          "output_type": "stream",
          "name": "stdout",
          "text": [
            "Resume matches by :94.63806970509387%\n"
          ]
        }
      ]
    },
    {
      "cell_type": "code",
      "source": [],
      "metadata": {
        "id": "kU7V-kuXvhgz"
      },
      "execution_count": null,
      "outputs": []
    },
    {
      "cell_type": "code",
      "source": [],
      "metadata": {
        "id": "VvCM7au_vhjP"
      },
      "execution_count": null,
      "outputs": []
    }
  ]
}